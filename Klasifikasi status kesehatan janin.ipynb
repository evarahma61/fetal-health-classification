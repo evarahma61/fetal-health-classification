{
  "nbformat": 4,
  "nbformat_minor": 0,
  "metadata": {
    "colab": {
      "name": "Tugas Besar Data Mining (Klasifikasi)",
      "provenance": [],
      "authorship_tag": "ABX9TyPXsp6EcRbdX7nORpRDTgfi",
      "include_colab_link": true
    },
    "kernelspec": {
      "name": "python3",
      "display_name": "Python 3"
    },
    "language_info": {
      "name": "python"
    }
  },
  "cells": [
    {
      "cell_type": "markdown",
      "metadata": {
        "id": "view-in-github",
        "colab_type": "text"
      },
      "source": [
        "<a href=\"https://colab.research.google.com/github/evarahma61/fetal-health-classification/blob/main/Klasifikasi%20status%20kesehatan%20janin.ipynb\" target=\"_parent\"><img src=\"https://colab.research.google.com/assets/colab-badge.svg\" alt=\"Open In Colab\"/></a>"
      ]
    },
    {
      "cell_type": "markdown",
      "metadata": {
        "id": "p6PMlTHSen4L"
      },
      "source": [
        "# Klasifikasi status kesehatan janin menggunakan metode Regresi Logistik<br> \n",
        "\n",
        "\n",
        "<h5> Klasifikasi kesehatan Janin <br>\n",
        "Dalam notebook ini digunakan machine learning untuk klasifikasi kesehatan janin guna untuk meningkatkan kesehatan janin dan mencegah tingginya angka kematian janin \n",
        "\n",
        "\n",
        "<h2> Akuisisi Data\n",
        "<h5> *   Dataset\n",
        "    Menggunakan dataset yang tersedia di kaggle. Berupa data dari hasil pemerikasaan menggunakan kardiotokogram \n",
        "    Dataset berisi 2126 record dan 21 kolom feature dan 1 kolom target <br>\n",
        "    https://www.kaggle.com/andrewmvd/fetal-health-classification\n",
        "\n",
        "\n",
        "\n"
      ]
    },
    {
      "cell_type": "markdown",
      "metadata": {
        "id": "4jjVB4wTezSe"
      },
      "source": [
        "## Import Library"
      ]
    },
    {
      "cell_type": "code",
      "metadata": {
        "id": "v2BZUPA-ep5v"
      },
      "source": [
        "# Import library\n",
        "import numpy as np\n",
        "import pandas as pd\n",
        "\n",
        "# Untuk Data visualization\n",
        "import matplotlib.pyplot as plt\n",
        "import seaborn as sns\n",
        "\n",
        "\n",
        "# Untuk Algorithma\n",
        "from sklearn.preprocessing import StandardScaler\n",
        "from sklearn.model_selection import train_test_split\n",
        "from sklearn import linear_model\n",
        "from sklearn.linear_model import LogisticRegression\n",
        "\n",
        "# Untuk mengecek performa model\n",
        "from sklearn.metrics import classification_report, confusion_matrix\n"
      ],
      "execution_count": null,
      "outputs": []
    },
    {
      "cell_type": "markdown",
      "metadata": {
        "id": "KYk56kldihx2"
      },
      "source": [
        "<h3> Membuka Dataset"
      ]
    },
    {
      "cell_type": "code",
      "metadata": {
        "id": "2emAdHE1iApO"
      },
      "source": [
        "# Membuka Dataset\n",
        "data = pd.read_csv('fetal_health.csv')"
      ],
      "execution_count": null,
      "outputs": []
    },
    {
      "cell_type": "markdown",
      "metadata": {
        "id": "y71HhDN4i8qt"
      },
      "source": [
        "## Exploratory Data Analysis (EDA)\n",
        "\n",
        "Dalam langkah ini, dicari informasi dasar tentang tipe data, kolom, missing value, memory usage dll."
      ]
    },
    {
      "cell_type": "code",
      "metadata": {
        "colab": {
          "base_uri": "https://localhost:8080/",
          "height": 238
        },
        "id": "KTYrMSySiptq",
        "outputId": "f72e1461-6ed2-46ed-fa94-09ea1a797378"
      },
      "source": [
        "# Menampilkan 5 data teratas\n",
        "data.head()"
      ],
      "execution_count": null,
      "outputs": [
        {
          "output_type": "execute_result",
          "data": {
            "text/html": [
              "<div>\n",
              "<style scoped>\n",
              "    .dataframe tbody tr th:only-of-type {\n",
              "        vertical-align: middle;\n",
              "    }\n",
              "\n",
              "    .dataframe tbody tr th {\n",
              "        vertical-align: top;\n",
              "    }\n",
              "\n",
              "    .dataframe thead th {\n",
              "        text-align: right;\n",
              "    }\n",
              "</style>\n",
              "<table border=\"1\" class=\"dataframe\">\n",
              "  <thead>\n",
              "    <tr style=\"text-align: right;\">\n",
              "      <th></th>\n",
              "      <th>baseline value</th>\n",
              "      <th>accelerations</th>\n",
              "      <th>fetal_movement</th>\n",
              "      <th>uterine_contractions</th>\n",
              "      <th>light_decelerations</th>\n",
              "      <th>severe_decelerations</th>\n",
              "      <th>prolongued_decelerations</th>\n",
              "      <th>abnormal_short_term_variability</th>\n",
              "      <th>mean_value_of_short_term_variability</th>\n",
              "      <th>percentage_of_time_with_abnormal_long_term_variability</th>\n",
              "      <th>mean_value_of_long_term_variability</th>\n",
              "      <th>histogram_width</th>\n",
              "      <th>histogram_min</th>\n",
              "      <th>histogram_max</th>\n",
              "      <th>histogram_number_of_peaks</th>\n",
              "      <th>histogram_number_of_zeroes</th>\n",
              "      <th>histogram_mode</th>\n",
              "      <th>histogram_mean</th>\n",
              "      <th>histogram_median</th>\n",
              "      <th>histogram_variance</th>\n",
              "      <th>histogram_tendency</th>\n",
              "      <th>fetal_health</th>\n",
              "    </tr>\n",
              "  </thead>\n",
              "  <tbody>\n",
              "    <tr>\n",
              "      <th>0</th>\n",
              "      <td>120.0</td>\n",
              "      <td>0.000</td>\n",
              "      <td>0.0</td>\n",
              "      <td>0.000</td>\n",
              "      <td>0.000</td>\n",
              "      <td>0.0</td>\n",
              "      <td>0.0</td>\n",
              "      <td>73.0</td>\n",
              "      <td>0.5</td>\n",
              "      <td>43.0</td>\n",
              "      <td>2.4</td>\n",
              "      <td>64.0</td>\n",
              "      <td>62.0</td>\n",
              "      <td>126.0</td>\n",
              "      <td>2.0</td>\n",
              "      <td>0.0</td>\n",
              "      <td>120.0</td>\n",
              "      <td>137.0</td>\n",
              "      <td>121.0</td>\n",
              "      <td>73.0</td>\n",
              "      <td>1.0</td>\n",
              "      <td>2.0</td>\n",
              "    </tr>\n",
              "    <tr>\n",
              "      <th>1</th>\n",
              "      <td>132.0</td>\n",
              "      <td>0.006</td>\n",
              "      <td>0.0</td>\n",
              "      <td>0.006</td>\n",
              "      <td>0.003</td>\n",
              "      <td>0.0</td>\n",
              "      <td>0.0</td>\n",
              "      <td>17.0</td>\n",
              "      <td>2.1</td>\n",
              "      <td>0.0</td>\n",
              "      <td>10.4</td>\n",
              "      <td>130.0</td>\n",
              "      <td>68.0</td>\n",
              "      <td>198.0</td>\n",
              "      <td>6.0</td>\n",
              "      <td>1.0</td>\n",
              "      <td>141.0</td>\n",
              "      <td>136.0</td>\n",
              "      <td>140.0</td>\n",
              "      <td>12.0</td>\n",
              "      <td>0.0</td>\n",
              "      <td>1.0</td>\n",
              "    </tr>\n",
              "    <tr>\n",
              "      <th>2</th>\n",
              "      <td>133.0</td>\n",
              "      <td>0.003</td>\n",
              "      <td>0.0</td>\n",
              "      <td>0.008</td>\n",
              "      <td>0.003</td>\n",
              "      <td>0.0</td>\n",
              "      <td>0.0</td>\n",
              "      <td>16.0</td>\n",
              "      <td>2.1</td>\n",
              "      <td>0.0</td>\n",
              "      <td>13.4</td>\n",
              "      <td>130.0</td>\n",
              "      <td>68.0</td>\n",
              "      <td>198.0</td>\n",
              "      <td>5.0</td>\n",
              "      <td>1.0</td>\n",
              "      <td>141.0</td>\n",
              "      <td>135.0</td>\n",
              "      <td>138.0</td>\n",
              "      <td>13.0</td>\n",
              "      <td>0.0</td>\n",
              "      <td>1.0</td>\n",
              "    </tr>\n",
              "    <tr>\n",
              "      <th>3</th>\n",
              "      <td>134.0</td>\n",
              "      <td>0.003</td>\n",
              "      <td>0.0</td>\n",
              "      <td>0.008</td>\n",
              "      <td>0.003</td>\n",
              "      <td>0.0</td>\n",
              "      <td>0.0</td>\n",
              "      <td>16.0</td>\n",
              "      <td>2.4</td>\n",
              "      <td>0.0</td>\n",
              "      <td>23.0</td>\n",
              "      <td>117.0</td>\n",
              "      <td>53.0</td>\n",
              "      <td>170.0</td>\n",
              "      <td>11.0</td>\n",
              "      <td>0.0</td>\n",
              "      <td>137.0</td>\n",
              "      <td>134.0</td>\n",
              "      <td>137.0</td>\n",
              "      <td>13.0</td>\n",
              "      <td>1.0</td>\n",
              "      <td>1.0</td>\n",
              "    </tr>\n",
              "    <tr>\n",
              "      <th>4</th>\n",
              "      <td>132.0</td>\n",
              "      <td>0.007</td>\n",
              "      <td>0.0</td>\n",
              "      <td>0.008</td>\n",
              "      <td>0.000</td>\n",
              "      <td>0.0</td>\n",
              "      <td>0.0</td>\n",
              "      <td>16.0</td>\n",
              "      <td>2.4</td>\n",
              "      <td>0.0</td>\n",
              "      <td>19.9</td>\n",
              "      <td>117.0</td>\n",
              "      <td>53.0</td>\n",
              "      <td>170.0</td>\n",
              "      <td>9.0</td>\n",
              "      <td>0.0</td>\n",
              "      <td>137.0</td>\n",
              "      <td>136.0</td>\n",
              "      <td>138.0</td>\n",
              "      <td>11.0</td>\n",
              "      <td>1.0</td>\n",
              "      <td>1.0</td>\n",
              "    </tr>\n",
              "  </tbody>\n",
              "</table>\n",
              "</div>"
            ],
            "text/plain": [
              "   baseline value  accelerations  ...  histogram_tendency  fetal_health\n",
              "0           120.0          0.000  ...                 1.0           2.0\n",
              "1           132.0          0.006  ...                 0.0           1.0\n",
              "2           133.0          0.003  ...                 0.0           1.0\n",
              "3           134.0          0.003  ...                 1.0           1.0\n",
              "4           132.0          0.007  ...                 1.0           1.0\n",
              "\n",
              "[5 rows x 22 columns]"
            ]
          },
          "metadata": {
            "tags": []
          },
          "execution_count": 6
        }
      ]
    },
    {
      "cell_type": "code",
      "metadata": {
        "colab": {
          "base_uri": "https://localhost:8080/"
        },
        "id": "ogh8B8ZEjasB",
        "outputId": "d0fc4c54-e52c-4ec2-e7f0-d3b2706454fe"
      },
      "source": [
        "print(f\"Dataset Columns:{data.columns}\")"
      ],
      "execution_count": null,
      "outputs": [
        {
          "output_type": "stream",
          "text": [
            "Dataset Columns:Index(['baseline value', 'accelerations', 'fetal_movement',\n",
            "       'uterine_contractions', 'light_decelerations', 'severe_decelerations',\n",
            "       'prolongued_decelerations', 'abnormal_short_term_variability',\n",
            "       'mean_value_of_short_term_variability',\n",
            "       'percentage_of_time_with_abnormal_long_term_variability',\n",
            "       'mean_value_of_long_term_variability', 'histogram_width',\n",
            "       'histogram_min', 'histogram_max', 'histogram_number_of_peaks',\n",
            "       'histogram_number_of_zeroes', 'histogram_mode', 'histogram_mean',\n",
            "       'histogram_median', 'histogram_variance', 'histogram_tendency',\n",
            "       'fetal_health'],\n",
            "      dtype='object')\n"
          ],
          "name": "stdout"
        }
      ]
    },
    {
      "cell_type": "markdown",
      "metadata": {
        "id": "Dp-PkpI6ooAp"
      },
      "source": [
        "Dataset ini berisi 2126 record fitur yang diperoleh dari pemeriksaan Kardiotokogram, yang kemudian diklasifikasikan oleh ahli kandungan ke dalam 3 kelas:\n",
        "\n",
        "1. Normal \n",
        "2. Suspect \n",
        "3. Pathological \n",
        "\n",
        "Kolom Fitur\n",
        "\n",
        "- 'baseline value' FHR baseline (beats per minute)\n",
        "- 'accelerations' Number of accelerations per second\n",
        "- 'fetal_movement' Number of fetal movements per second\n",
        "- 'uterine_contractions' Number of uterine contractions per second\n",
        "- 'light_decelerations' Number of light decelerations per second\n",
        "- 'severe_decelerations' Number of severe decelerations per second\n",
        "- 'prolongued_decelerations' Number of prolonged decelerations per second\n",
        "- 'abnormal_short_term_variability' Percentage of time with abnormal short term - variability\n",
        "- 'mean_value_of_short_term_variability' Mean value of short term variability\n",
        "- 'percentage_of_time_with_abnormal_long_term_variability' Percentage of time with abnormal long term variability\n",
        "- 'mean_value_of_long_term_variability' Mean value of long term variability\n",
        "- 'histogram_width' Width of FHR histogram\n",
        "- 'histogram_min' Minimum (low frequency) of FHR histogram\n",
        "- 'histogram_max' Maximum (high frequency) of FHR histogram\n",
        "- 'histogram_number_of_peaks' Number of histogram peaks\n",
        "- 'histogram_number_of_zeroes' Number of histogram zeros\n",
        "- 'histogram_mode' Histogram mode\n",
        "- 'histogram_mean' Histogram mean\n",
        "- 'histogram_median' Histogram median\n",
        "- 'histogram_variance' Histogram variance\n",
        "- 'histogram_tendency' Histogram tendency\n",
        "\n",
        "Kolom target\n",
        "\n",
        "'fetal_health' yang diklasifikasikan menjadi 1 (Normal), 2 (Suspect) and 3 (Pathological)"
      ]
    },
    {
      "cell_type": "code",
      "metadata": {
        "colab": {
          "base_uri": "https://localhost:8080/",
          "height": 723
        },
        "id": "2bEkUjPZjd36",
        "outputId": "6856cd59-fb22-4a12-ab02-7967c25d9ea4"
      },
      "source": [
        "# Analisis statistik data\n",
        "data.describe().T"
      ],
      "execution_count": null,
      "outputs": [
        {
          "output_type": "execute_result",
          "data": {
            "text/html": [
              "<div>\n",
              "<style scoped>\n",
              "    .dataframe tbody tr th:only-of-type {\n",
              "        vertical-align: middle;\n",
              "    }\n",
              "\n",
              "    .dataframe tbody tr th {\n",
              "        vertical-align: top;\n",
              "    }\n",
              "\n",
              "    .dataframe thead th {\n",
              "        text-align: right;\n",
              "    }\n",
              "</style>\n",
              "<table border=\"1\" class=\"dataframe\">\n",
              "  <thead>\n",
              "    <tr style=\"text-align: right;\">\n",
              "      <th></th>\n",
              "      <th>count</th>\n",
              "      <th>mean</th>\n",
              "      <th>std</th>\n",
              "      <th>min</th>\n",
              "      <th>25%</th>\n",
              "      <th>50%</th>\n",
              "      <th>75%</th>\n",
              "      <th>max</th>\n",
              "    </tr>\n",
              "  </thead>\n",
              "  <tbody>\n",
              "    <tr>\n",
              "      <th>baseline value</th>\n",
              "      <td>2126.0</td>\n",
              "      <td>133.303857</td>\n",
              "      <td>9.840844</td>\n",
              "      <td>106.0</td>\n",
              "      <td>126.000</td>\n",
              "      <td>133.000</td>\n",
              "      <td>140.000</td>\n",
              "      <td>160.000</td>\n",
              "    </tr>\n",
              "    <tr>\n",
              "      <th>accelerations</th>\n",
              "      <td>2126.0</td>\n",
              "      <td>0.003178</td>\n",
              "      <td>0.003866</td>\n",
              "      <td>0.0</td>\n",
              "      <td>0.000</td>\n",
              "      <td>0.002</td>\n",
              "      <td>0.006</td>\n",
              "      <td>0.019</td>\n",
              "    </tr>\n",
              "    <tr>\n",
              "      <th>fetal_movement</th>\n",
              "      <td>2126.0</td>\n",
              "      <td>0.009481</td>\n",
              "      <td>0.046666</td>\n",
              "      <td>0.0</td>\n",
              "      <td>0.000</td>\n",
              "      <td>0.000</td>\n",
              "      <td>0.003</td>\n",
              "      <td>0.481</td>\n",
              "    </tr>\n",
              "    <tr>\n",
              "      <th>uterine_contractions</th>\n",
              "      <td>2126.0</td>\n",
              "      <td>0.004366</td>\n",
              "      <td>0.002946</td>\n",
              "      <td>0.0</td>\n",
              "      <td>0.002</td>\n",
              "      <td>0.004</td>\n",
              "      <td>0.007</td>\n",
              "      <td>0.015</td>\n",
              "    </tr>\n",
              "    <tr>\n",
              "      <th>light_decelerations</th>\n",
              "      <td>2126.0</td>\n",
              "      <td>0.001889</td>\n",
              "      <td>0.002960</td>\n",
              "      <td>0.0</td>\n",
              "      <td>0.000</td>\n",
              "      <td>0.000</td>\n",
              "      <td>0.003</td>\n",
              "      <td>0.015</td>\n",
              "    </tr>\n",
              "    <tr>\n",
              "      <th>severe_decelerations</th>\n",
              "      <td>2126.0</td>\n",
              "      <td>0.000003</td>\n",
              "      <td>0.000057</td>\n",
              "      <td>0.0</td>\n",
              "      <td>0.000</td>\n",
              "      <td>0.000</td>\n",
              "      <td>0.000</td>\n",
              "      <td>0.001</td>\n",
              "    </tr>\n",
              "    <tr>\n",
              "      <th>prolongued_decelerations</th>\n",
              "      <td>2126.0</td>\n",
              "      <td>0.000159</td>\n",
              "      <td>0.000590</td>\n",
              "      <td>0.0</td>\n",
              "      <td>0.000</td>\n",
              "      <td>0.000</td>\n",
              "      <td>0.000</td>\n",
              "      <td>0.005</td>\n",
              "    </tr>\n",
              "    <tr>\n",
              "      <th>abnormal_short_term_variability</th>\n",
              "      <td>2126.0</td>\n",
              "      <td>46.990122</td>\n",
              "      <td>17.192814</td>\n",
              "      <td>12.0</td>\n",
              "      <td>32.000</td>\n",
              "      <td>49.000</td>\n",
              "      <td>61.000</td>\n",
              "      <td>87.000</td>\n",
              "    </tr>\n",
              "    <tr>\n",
              "      <th>mean_value_of_short_term_variability</th>\n",
              "      <td>2126.0</td>\n",
              "      <td>1.332785</td>\n",
              "      <td>0.883241</td>\n",
              "      <td>0.2</td>\n",
              "      <td>0.700</td>\n",
              "      <td>1.200</td>\n",
              "      <td>1.700</td>\n",
              "      <td>7.000</td>\n",
              "    </tr>\n",
              "    <tr>\n",
              "      <th>percentage_of_time_with_abnormal_long_term_variability</th>\n",
              "      <td>2126.0</td>\n",
              "      <td>9.846660</td>\n",
              "      <td>18.396880</td>\n",
              "      <td>0.0</td>\n",
              "      <td>0.000</td>\n",
              "      <td>0.000</td>\n",
              "      <td>11.000</td>\n",
              "      <td>91.000</td>\n",
              "    </tr>\n",
              "    <tr>\n",
              "      <th>mean_value_of_long_term_variability</th>\n",
              "      <td>2126.0</td>\n",
              "      <td>8.187629</td>\n",
              "      <td>5.628247</td>\n",
              "      <td>0.0</td>\n",
              "      <td>4.600</td>\n",
              "      <td>7.400</td>\n",
              "      <td>10.800</td>\n",
              "      <td>50.700</td>\n",
              "    </tr>\n",
              "    <tr>\n",
              "      <th>histogram_width</th>\n",
              "      <td>2126.0</td>\n",
              "      <td>70.445908</td>\n",
              "      <td>38.955693</td>\n",
              "      <td>3.0</td>\n",
              "      <td>37.000</td>\n",
              "      <td>67.500</td>\n",
              "      <td>100.000</td>\n",
              "      <td>180.000</td>\n",
              "    </tr>\n",
              "    <tr>\n",
              "      <th>histogram_min</th>\n",
              "      <td>2126.0</td>\n",
              "      <td>93.579492</td>\n",
              "      <td>29.560212</td>\n",
              "      <td>50.0</td>\n",
              "      <td>67.000</td>\n",
              "      <td>93.000</td>\n",
              "      <td>120.000</td>\n",
              "      <td>159.000</td>\n",
              "    </tr>\n",
              "    <tr>\n",
              "      <th>histogram_max</th>\n",
              "      <td>2126.0</td>\n",
              "      <td>164.025400</td>\n",
              "      <td>17.944183</td>\n",
              "      <td>122.0</td>\n",
              "      <td>152.000</td>\n",
              "      <td>162.000</td>\n",
              "      <td>174.000</td>\n",
              "      <td>238.000</td>\n",
              "    </tr>\n",
              "    <tr>\n",
              "      <th>histogram_number_of_peaks</th>\n",
              "      <td>2126.0</td>\n",
              "      <td>4.068203</td>\n",
              "      <td>2.949386</td>\n",
              "      <td>0.0</td>\n",
              "      <td>2.000</td>\n",
              "      <td>3.000</td>\n",
              "      <td>6.000</td>\n",
              "      <td>18.000</td>\n",
              "    </tr>\n",
              "    <tr>\n",
              "      <th>histogram_number_of_zeroes</th>\n",
              "      <td>2126.0</td>\n",
              "      <td>0.323612</td>\n",
              "      <td>0.706059</td>\n",
              "      <td>0.0</td>\n",
              "      <td>0.000</td>\n",
              "      <td>0.000</td>\n",
              "      <td>0.000</td>\n",
              "      <td>10.000</td>\n",
              "    </tr>\n",
              "    <tr>\n",
              "      <th>histogram_mode</th>\n",
              "      <td>2126.0</td>\n",
              "      <td>137.452023</td>\n",
              "      <td>16.381289</td>\n",
              "      <td>60.0</td>\n",
              "      <td>129.000</td>\n",
              "      <td>139.000</td>\n",
              "      <td>148.000</td>\n",
              "      <td>187.000</td>\n",
              "    </tr>\n",
              "    <tr>\n",
              "      <th>histogram_mean</th>\n",
              "      <td>2126.0</td>\n",
              "      <td>134.610536</td>\n",
              "      <td>15.593596</td>\n",
              "      <td>73.0</td>\n",
              "      <td>125.000</td>\n",
              "      <td>136.000</td>\n",
              "      <td>145.000</td>\n",
              "      <td>182.000</td>\n",
              "    </tr>\n",
              "    <tr>\n",
              "      <th>histogram_median</th>\n",
              "      <td>2126.0</td>\n",
              "      <td>138.090310</td>\n",
              "      <td>14.466589</td>\n",
              "      <td>77.0</td>\n",
              "      <td>129.000</td>\n",
              "      <td>139.000</td>\n",
              "      <td>148.000</td>\n",
              "      <td>186.000</td>\n",
              "    </tr>\n",
              "    <tr>\n",
              "      <th>histogram_variance</th>\n",
              "      <td>2126.0</td>\n",
              "      <td>18.808090</td>\n",
              "      <td>28.977636</td>\n",
              "      <td>0.0</td>\n",
              "      <td>2.000</td>\n",
              "      <td>7.000</td>\n",
              "      <td>24.000</td>\n",
              "      <td>269.000</td>\n",
              "    </tr>\n",
              "    <tr>\n",
              "      <th>histogram_tendency</th>\n",
              "      <td>2126.0</td>\n",
              "      <td>0.320320</td>\n",
              "      <td>0.610829</td>\n",
              "      <td>-1.0</td>\n",
              "      <td>0.000</td>\n",
              "      <td>0.000</td>\n",
              "      <td>1.000</td>\n",
              "      <td>1.000</td>\n",
              "    </tr>\n",
              "    <tr>\n",
              "      <th>fetal_health</th>\n",
              "      <td>2126.0</td>\n",
              "      <td>1.304327</td>\n",
              "      <td>0.614377</td>\n",
              "      <td>1.0</td>\n",
              "      <td>1.000</td>\n",
              "      <td>1.000</td>\n",
              "      <td>1.000</td>\n",
              "      <td>3.000</td>\n",
              "    </tr>\n",
              "  </tbody>\n",
              "</table>\n",
              "</div>"
            ],
            "text/plain": [
              "                                                     count  ...      max\n",
              "baseline value                                      2126.0  ...  160.000\n",
              "accelerations                                       2126.0  ...    0.019\n",
              "fetal_movement                                      2126.0  ...    0.481\n",
              "uterine_contractions                                2126.0  ...    0.015\n",
              "light_decelerations                                 2126.0  ...    0.015\n",
              "severe_decelerations                                2126.0  ...    0.001\n",
              "prolongued_decelerations                            2126.0  ...    0.005\n",
              "abnormal_short_term_variability                     2126.0  ...   87.000\n",
              "mean_value_of_short_term_variability                2126.0  ...    7.000\n",
              "percentage_of_time_with_abnormal_long_term_vari...  2126.0  ...   91.000\n",
              "mean_value_of_long_term_variability                 2126.0  ...   50.700\n",
              "histogram_width                                     2126.0  ...  180.000\n",
              "histogram_min                                       2126.0  ...  159.000\n",
              "histogram_max                                       2126.0  ...  238.000\n",
              "histogram_number_of_peaks                           2126.0  ...   18.000\n",
              "histogram_number_of_zeroes                          2126.0  ...   10.000\n",
              "histogram_mode                                      2126.0  ...  187.000\n",
              "histogram_mean                                      2126.0  ...  182.000\n",
              "histogram_median                                    2126.0  ...  186.000\n",
              "histogram_variance                                  2126.0  ...  269.000\n",
              "histogram_tendency                                  2126.0  ...    1.000\n",
              "fetal_health                                        2126.0  ...    3.000\n",
              "\n",
              "[22 rows x 8 columns]"
            ]
          },
          "metadata": {
            "tags": []
          },
          "execution_count": 8
        }
      ]
    },
    {
      "cell_type": "markdown",
      "metadata": {
        "id": "OiV0SywZxRxc"
      },
      "source": [
        "Method DataFrame.describe() menghasilkan statistik deskriptif, namun hanya untuk kolom yang numerik bukan untuk nilai kategorikal. Metode ini merangkum tendensi sentral, dispersi, dan bentuk distribusi dataset, (nilai NaN tidak termasuk)\n",
        "\n",
        "- Count : menghitung jumlah baris yang tidak kosong\n",
        "- Mean : rata-rata\n",
        "- Std : standar deviasi\n",
        "- Min : nilai paling kecil\n",
        "- 25%, 50%, and 75% adalah percentile/quartile dari tiap atribut. kuartil dapat membantu untuk mendeteksi outlier\n",
        "- Max : nilai tertinggi"
      ]
    },
    {
      "cell_type": "code",
      "metadata": {
        "colab": {
          "base_uri": "https://localhost:8080/"
        },
        "id": "AuBJFHMtxNT7",
        "outputId": "395e64af-2b04-48e5-a550-3914f879fae4"
      },
      "source": [
        "data.info(verbose=True)"
      ],
      "execution_count": null,
      "outputs": [
        {
          "output_type": "stream",
          "text": [
            "<class 'pandas.core.frame.DataFrame'>\n",
            "RangeIndex: 2126 entries, 0 to 2125\n",
            "Data columns (total 22 columns):\n",
            " #   Column                                                  Non-Null Count  Dtype  \n",
            "---  ------                                                  --------------  -----  \n",
            " 0   baseline value                                          2126 non-null   float64\n",
            " 1   accelerations                                           2126 non-null   float64\n",
            " 2   fetal_movement                                          2126 non-null   float64\n",
            " 3   uterine_contractions                                    2126 non-null   float64\n",
            " 4   light_decelerations                                     2126 non-null   float64\n",
            " 5   severe_decelerations                                    2126 non-null   float64\n",
            " 6   prolongued_decelerations                                2126 non-null   float64\n",
            " 7   abnormal_short_term_variability                         2126 non-null   float64\n",
            " 8   mean_value_of_short_term_variability                    2126 non-null   float64\n",
            " 9   percentage_of_time_with_abnormal_long_term_variability  2126 non-null   float64\n",
            " 10  mean_value_of_long_term_variability                     2126 non-null   float64\n",
            " 11  histogram_width                                         2126 non-null   float64\n",
            " 12  histogram_min                                           2126 non-null   float64\n",
            " 13  histogram_max                                           2126 non-null   float64\n",
            " 14  histogram_number_of_peaks                               2126 non-null   float64\n",
            " 15  histogram_number_of_zeroes                              2126 non-null   float64\n",
            " 16  histogram_mode                                          2126 non-null   float64\n",
            " 17  histogram_mean                                          2126 non-null   float64\n",
            " 18  histogram_median                                        2126 non-null   float64\n",
            " 19  histogram_variance                                      2126 non-null   float64\n",
            " 20  histogram_tendency                                      2126 non-null   float64\n",
            " 21  fetal_health                                            2126 non-null   float64\n",
            "dtypes: float64(22)\n",
            "memory usage: 365.5 KB\n"
          ],
          "name": "stdout"
        }
      ]
    },
    {
      "cell_type": "markdown",
      "metadata": {
        "id": "51afRMS8xcq-"
      },
      "source": [
        "Metode DataFrame.info() mencetak summary dataframe, seperti index, tipe, dtype, dan penggunaan memori"
      ]
    },
    {
      "cell_type": "code",
      "metadata": {
        "colab": {
          "base_uri": "https://localhost:8080/"
        },
        "id": "krZ4c5dSxauf",
        "outputId": "15783da1-e6c1-473b-c790-c3af3a7107f3"
      },
      "source": [
        "print(f\"The dataset size: {data.shape}\")"
      ],
      "execution_count": null,
      "outputs": [
        {
          "output_type": "stream",
          "text": [
            "The dataset size: (2126, 22)\n"
          ],
          "name": "stdout"
        }
      ]
    },
    {
      "cell_type": "markdown",
      "metadata": {
        "id": "DIpTBWzyxn7j"
      },
      "source": [
        "DataFrame.shape mengembalikan dimensi dari data dalam bentuk tuple"
      ]
    },
    {
      "cell_type": "markdown",
      "metadata": {
        "id": "91OoRQgLxtLo"
      },
      "source": [
        "### Pre-processing Data\n",
        "\n",
        "Menghitung missing value"
      ]
    },
    {
      "cell_type": "code",
      "metadata": {
        "colab": {
          "base_uri": "https://localhost:8080/"
        },
        "id": "OnU0hmA_xjUR",
        "outputId": "e1f299f4-bf71-491a-a8b9-513ecdaf7073"
      },
      "source": [
        "# Count the missing and null values for dataset fetal healt.\n",
        "miss_values = data.columns[data.isnull().any()]\n",
        "print(f\"Missing value:\\n{data[miss_values].isnull().sum()}\")\n"
      ],
      "execution_count": null,
      "outputs": [
        {
          "output_type": "stream",
          "text": [
            "Missing value:\n",
            "Series([], dtype: float64)\n"
          ],
          "name": "stdout"
        }
      ]
    },
    {
      "cell_type": "markdown",
      "metadata": {
        "id": "9x4Eamrxx4Px"
      },
      "source": [
        "Pada dataset ini, tidak ditemukan value null atau missing value "
      ]
    },
    {
      "cell_type": "markdown",
      "metadata": {
        "id": "ooGA9CfjyM5P"
      },
      "source": [
        "### Visualiasi Data"
      ]
    },
    {
      "cell_type": "code",
      "metadata": {
        "colab": {
          "base_uri": "https://localhost:8080/",
          "height": 372
        },
        "id": "N_fZDjVf5L2P",
        "outputId": "b675b979-4c24-4282-bd19-38968b49d969"
      },
      "source": [
        "plt.figure(figsize = (10,5))\n",
        "plt.subplot(121)\n",
        "# sns.countplot(x=\"fetal_health\", data=data)\n",
        "vis_fetal_health = data.fetal_health.value_counts().plot(figsize=(10, 5), kind=\"bar\", color = [\"#AAA662\", \"#F0E68C\", \"#F0E68C\"])\n",
        "plt.title(\"Fetal health count\")\n",
        "plt.xlabel(\"Fetal health\")\n",
        "plt.ylabel(\"Jumlah case\")"
      ],
      "execution_count": null,
      "outputs": [
        {
          "output_type": "execute_result",
          "data": {
            "text/plain": [
              "Text(0, 0.5, 'Jumlah case')"
            ]
          },
          "metadata": {
            "tags": []
          },
          "execution_count": 12
        },
        {
          "output_type": "display_data",
          "data": {
            "image/png": "[encoded data removed]",
            "text/plain": [
              "<Figure size 720x360 with 1 Axes>"
            ]
          },
          "metadata": {
            "tags": [],
            "needs_background": "light"
          }
        }
      ]
    },
    {
      "cell_type": "code",
      "metadata": {
        "colab": {
          "base_uri": "https://localhost:8080/",
          "height": 278
        },
        "id": "2bOWTMiX5Se2",
        "outputId": "b26844b8-1878-4e12-c06c-4ef307c8b031"
      },
      "source": [
        "vis_pie_fetal_health = plt.pie([normal, suspect, pathological], labels=[\"Normal\", \"Suspect\", \"Pathological\"], colors = [\"#AAA662\", \"#F0E68C\", \"#FFFFCB\"], autopct=\"%1.0f%%\")\n",
        "plt.title(\"Fetal health count\")\n",
        "plt.xlabel(\"Fetal helth\")\n",
        "plt.ylabel(\"Cases\")\n",
        "\n",
        "\n",
        "plt.show()"
      ],
      "execution_count": null,
      "outputs": [
        {
          "output_type": "display_data",
          "data": {
            "image/png": "[encoded data removed]",
            "text/plain": [
              "<Figure size 432x288 with 1 Axes>"
            ]
          },
          "metadata": {
            "tags": []
          }
        }
      ]
    },
    {
      "cell_type": "markdown",
      "metadata": {
        "id": "nA8JQo7c6goN"
      },
      "source": [
        "<h2> Korelasi kolom numerik dengan variabel output (fetal_health)\n",
        "\n",
        "\n",
        "\n"
      ]
    },
    {
      "cell_type": "markdown",
      "metadata": {
        "id": "XIz_szdt6mzu"
      },
      "source": [
        "untuk mendapatkan gambaran awal tentang hubungan antar fitur. maka dicari  korelasi antara fitur numerik dan target \"fetal_health\", dengan melihat heatmap di bawah ini dapat melihat beberapa fitur memiliki warna gelap, fitur tersebut memiliki korelasi yang tinggi terhadap target."
      ]
    },
    {
      "cell_type": "code",
      "metadata": {
        "colab": {
          "base_uri": "https://localhost:8080/",
          "height": 400
        },
        "id": "uo1awzYR5joy",
        "outputId": "0be8b157-a183-4e57-e732-2d72ad6210b4"
      },
      "source": [
        "numeric_data = data.select_dtypes(exclude=\"object\")\n",
        "numeric_corr = numeric_data.corr()\n",
        "f,ax=plt.subplots(figsize=(25,1))\n",
        "sns.heatmap(numeric_corr.sort_values(by=[\"fetal_health\"], ascending=False).head(1), cmap=\"GnBu\")\n",
        "plt.title(\"Korelasi kolom numerik dengan kolom fetal_health\", weight=\"bold\", fontsize=18, color=\"#5F9EA0\")\n",
        "plt.yticks(weight=\"bold\", color=\"darkgreen\", rotation=0)\n",
        "\n",
        "plt.show()"
      ],
      "execution_count": null,
      "outputs": [
        {
          "output_type": "display_data",
          "data": {
            "image/png": "[encoded data removed]",
            "text/plain": [
              "<Figure size 1800x72 with 2 Axes>"
            ]
          },
          "metadata": {
            "tags": [],
            "needs_background": "light"
          }
        }
      ]
    },
    {
      "cell_type": "markdown",
      "metadata": {
        "id": "ehn19Hzr6uAr"
      },
      "source": [
        "Dapat dilihat terdapat kolom yaitu \"prolongued_decelerations\", \"abnormal_short_term_variability\", \"percentage_of_time_with_abnormal_long_term_variability\" yang memiliki korelasi yang tinggi terhadap kolom target (fetal_health)"
      ]
    },
    {
      "cell_type": "markdown",
      "metadata": {
        "id": "BHgRTCWo7Rs8"
      },
      "source": [
        "<h1> Data Scaling"
      ]
    },
    {
      "cell_type": "markdown",
      "metadata": {
        "id": "NGmCnJVC7YL6"
      },
      "source": [
        "feature dengan rentang nilai terbesar biasanya otomatis akan menjadi feature yang paling mendominasi dalam proses training/komputasi, sehingga model yang dihasilkan pun akan sangat bias. Oleh karena itu, sebelum memulai training model, kita terlebih dahulu perlu melakukan data rescaling. \n"
      ]
    },
    {
      "cell_type": "code",
      "metadata": {
        "id": "eyC3LbTa7F-V"
      },
      "source": [
        "columns = ['baseline value', 'accelerations', 'fetal_movement',\n",
        "       'uterine_contractions', 'light_decelerations', 'severe_decelerations',\n",
        "       'prolongued_decelerations', 'abnormal_short_term_variability',\n",
        "       'mean_value_of_short_term_variability',\n",
        "       'percentage_of_time_with_abnormal_long_term_variability',\n",
        "       'mean_value_of_long_term_variability', 'histogram_width',\n",
        "       'histogram_min', 'histogram_max', 'histogram_number_of_peaks',\n",
        "       'histogram_number_of_zeroes', 'histogram_mode', 'histogram_mean',\n",
        "       'histogram_median', 'histogram_variance', 'histogram_tendency']\n",
        "scale_X = StandardScaler()\n",
        "X =  pd.DataFrame(scale_X.fit_transform(data.drop([\"fetal_health\"],axis = 1),), columns = columns)"
      ],
      "execution_count": null,
      "outputs": []
    },
    {
      "cell_type": "code",
      "metadata": {
        "colab": {
          "base_uri": "https://localhost:8080/",
          "height": 244
        },
        "id": "5Q5QaYoY7fGY",
        "outputId": "ccca20c6-867c-4eb8-c717-8b538aa15bc6"
      },
      "source": [
        "X.head()"
      ],
      "execution_count": null,
      "outputs": [
        {
          "output_type": "execute_result",
          "data": {
            "text/html": [
              "<div>\n",
              "<style scoped>\n",
              "    .dataframe tbody tr th:only-of-type {\n",
              "        vertical-align: middle;\n",
              "    }\n",
              "\n",
              "    .dataframe tbody tr th {\n",
              "        vertical-align: top;\n",
              "    }\n",
              "\n",
              "    .dataframe thead th {\n",
              "        text-align: right;\n",
              "    }\n",
              "</style>\n",
              "<table border=\"1\" class=\"dataframe\">\n",
              "  <thead>\n",
              "    <tr style=\"text-align: right;\">\n",
              "      <th></th>\n",
              "      <th>baseline value</th>\n",
              "      <th>accelerations</th>\n",
              "      <th>fetal_movement</th>\n",
              "      <th>uterine_contractions</th>\n",
              "      <th>light_decelerations</th>\n",
              "      <th>severe_decelerations</th>\n",
              "      <th>prolongued_decelerations</th>\n",
              "      <th>abnormal_short_term_variability</th>\n",
              "      <th>mean_value_of_short_term_variability</th>\n",
              "      <th>percentage_of_time_with_abnormal_long_term_variability</th>\n",
              "      <th>mean_value_of_long_term_variability</th>\n",
              "      <th>histogram_width</th>\n",
              "      <th>histogram_min</th>\n",
              "      <th>histogram_max</th>\n",
              "      <th>histogram_number_of_peaks</th>\n",
              "      <th>histogram_number_of_zeroes</th>\n",
              "      <th>histogram_mode</th>\n",
              "      <th>histogram_mean</th>\n",
              "      <th>histogram_median</th>\n",
              "      <th>histogram_variance</th>\n",
              "      <th>histogram_tendency</th>\n",
              "    </tr>\n",
              "  </thead>\n",
              "  <tbody>\n",
              "    <tr>\n",
              "      <th>0</th>\n",
              "      <td>-1.352220</td>\n",
              "      <td>-0.822388</td>\n",
              "      <td>-0.20321</td>\n",
              "      <td>-1.482465</td>\n",
              "      <td>-0.638438</td>\n",
              "      <td>-0.057476</td>\n",
              "      <td>-0.268754</td>\n",
              "      <td>1.513190</td>\n",
              "      <td>-0.943095</td>\n",
              "      <td>1.802542</td>\n",
              "      <td>-1.028560</td>\n",
              "      <td>-0.165507</td>\n",
              "      <td>-1.068562</td>\n",
              "      <td>-2.119592</td>\n",
              "      <td>-0.701397</td>\n",
              "      <td>-0.458444</td>\n",
              "      <td>-1.065614</td>\n",
              "      <td>0.153270</td>\n",
              "      <td>-1.181642</td>\n",
              "      <td>1.870569</td>\n",
              "      <td>1.112980</td>\n",
              "    </tr>\n",
              "    <tr>\n",
              "      <th>1</th>\n",
              "      <td>-0.132526</td>\n",
              "      <td>0.730133</td>\n",
              "      <td>-0.20321</td>\n",
              "      <td>0.554627</td>\n",
              "      <td>0.375243</td>\n",
              "      <td>-0.057476</td>\n",
              "      <td>-0.268754</td>\n",
              "      <td>-1.744751</td>\n",
              "      <td>0.868841</td>\n",
              "      <td>-0.535361</td>\n",
              "      <td>0.393176</td>\n",
              "      <td>1.529124</td>\n",
              "      <td>-0.865539</td>\n",
              "      <td>1.893794</td>\n",
              "      <td>0.655137</td>\n",
              "      <td>0.958201</td>\n",
              "      <td>0.216638</td>\n",
              "      <td>0.089126</td>\n",
              "      <td>0.132038</td>\n",
              "      <td>-0.234998</td>\n",
              "      <td>-0.524526</td>\n",
              "    </tr>\n",
              "    <tr>\n",
              "      <th>2</th>\n",
              "      <td>-0.030884</td>\n",
              "      <td>-0.046128</td>\n",
              "      <td>-0.20321</td>\n",
              "      <td>1.233657</td>\n",
              "      <td>0.375243</td>\n",
              "      <td>-0.057476</td>\n",
              "      <td>-0.268754</td>\n",
              "      <td>-1.802928</td>\n",
              "      <td>0.868841</td>\n",
              "      <td>-0.535361</td>\n",
              "      <td>0.926327</td>\n",
              "      <td>1.529124</td>\n",
              "      <td>-0.865539</td>\n",
              "      <td>1.893794</td>\n",
              "      <td>0.316003</td>\n",
              "      <td>0.958201</td>\n",
              "      <td>0.216638</td>\n",
              "      <td>0.024982</td>\n",
              "      <td>-0.006244</td>\n",
              "      <td>-0.200481</td>\n",
              "      <td>-0.524526</td>\n",
              "    </tr>\n",
              "    <tr>\n",
              "      <th>3</th>\n",
              "      <td>0.070757</td>\n",
              "      <td>-0.046128</td>\n",
              "      <td>-0.20321</td>\n",
              "      <td>1.233657</td>\n",
              "      <td>0.375243</td>\n",
              "      <td>-0.057476</td>\n",
              "      <td>-0.268754</td>\n",
              "      <td>-1.802928</td>\n",
              "      <td>1.208579</td>\n",
              "      <td>-0.535361</td>\n",
              "      <td>2.632411</td>\n",
              "      <td>1.195333</td>\n",
              "      <td>-1.373097</td>\n",
              "      <td>0.333033</td>\n",
              "      <td>2.350804</td>\n",
              "      <td>-0.458444</td>\n",
              "      <td>-0.027600</td>\n",
              "      <td>-0.039162</td>\n",
              "      <td>-0.075385</td>\n",
              "      <td>-0.200481</td>\n",
              "      <td>1.112980</td>\n",
              "    </tr>\n",
              "    <tr>\n",
              "      <th>4</th>\n",
              "      <td>-0.132526</td>\n",
              "      <td>0.988886</td>\n",
              "      <td>-0.20321</td>\n",
              "      <td>1.233657</td>\n",
              "      <td>-0.638438</td>\n",
              "      <td>-0.057476</td>\n",
              "      <td>-0.268754</td>\n",
              "      <td>-1.802928</td>\n",
              "      <td>1.208579</td>\n",
              "      <td>-0.535361</td>\n",
              "      <td>2.081488</td>\n",
              "      <td>1.195333</td>\n",
              "      <td>-1.373097</td>\n",
              "      <td>0.333033</td>\n",
              "      <td>1.672537</td>\n",
              "      <td>-0.458444</td>\n",
              "      <td>-0.027600</td>\n",
              "      <td>0.089126</td>\n",
              "      <td>-0.006244</td>\n",
              "      <td>-0.269516</td>\n",
              "      <td>1.112980</td>\n",
              "    </tr>\n",
              "  </tbody>\n",
              "</table>\n",
              "</div>"
            ],
            "text/plain": [
              "   baseline value  accelerations  ...  histogram_variance  histogram_tendency\n",
              "0       -1.352220      -0.822388  ...            1.870569            1.112980\n",
              "1       -0.132526       0.730133  ...           -0.234998           -0.524526\n",
              "2       -0.030884      -0.046128  ...           -0.200481           -0.524526\n",
              "3        0.070757      -0.046128  ...           -0.200481            1.112980\n",
              "4       -0.132526       0.988886  ...           -0.269516            1.112980\n",
              "\n",
              "[5 rows x 21 columns]"
            ]
          },
          "metadata": {
            "tags": []
          },
          "execution_count": 38
        }
      ]
    },
    {
      "cell_type": "code",
      "metadata": {
        "id": "ntAtRJKW7iZ9"
      },
      "source": [
        "y = data[\"fetal_health\"]"
      ],
      "execution_count": null,
      "outputs": []
    },
    {
      "cell_type": "markdown",
      "metadata": {
        "id": "XwAoBQWz7rNK"
      },
      "source": [
        "## Test Train Split"
      ]
    },
    {
      "cell_type": "markdown",
      "metadata": {
        "id": "dTjozz_v8E3v"
      },
      "source": [
        "- Train Test Split : Train/test split adalah salah satu metode yang dapat digunakan untuk mengevaluasi performa model machine learning. Metode evaluasi model ini membagi dataset menjadi dua bagian yakni bagian yang digunakan untuk training data dan untuk testing data dengan proporsi tertentu. Train data digunakan untuk fit model machine learning, sedangkan test data digunakan untuk mengevaluasi hasil fit model tersebut.\n"
      ]
    },
    {
      "cell_type": "code",
      "metadata": {
        "id": "qfOiJjJm7nFO"
      },
      "source": [
        "# train_test_split\n",
        "X_train, X_test, y_train, y_test = train_test_split(X, y, test_size = 0.3, random_state = 42, stratify = y)"
      ],
      "execution_count": null,
      "outputs": []
    },
    {
      "cell_type": "code",
      "metadata": {
        "colab": {
          "base_uri": "https://localhost:8080/"
        },
        "id": "pc0236F78Ll5",
        "outputId": "ac78daaf-92bc-478f-a239-7da6c89411a9"
      },
      "source": [
        "X_train.shape, X_test.shape, y_train.shape, y_test.shape"
      ],
      "execution_count": null,
      "outputs": [
        {
          "output_type": "execute_result",
          "data": {
            "text/plain": [
              "((1488, 21), (638, 21), (1488,), (638,))"
            ]
          },
          "metadata": {
            "tags": []
          },
          "execution_count": 41
        }
      ]
    },
    {
      "cell_type": "markdown",
      "metadata": {
        "id": "U3WbvVA78ob9"
      },
      "source": [
        "## ML Model "
      ]
    },
    {
      "cell_type": "code",
      "metadata": {
        "colab": {
          "base_uri": "https://localhost:8080/"
        },
        "id": "Wa1DD-w18QD0",
        "outputId": "17be56a2-2fde-447f-8381-a544111fd551"
      },
      "source": [
        "logistic_regression = linear_model.LogisticRegression()\n",
        "logistic_regression_mod = logistic_regression.fit(X_train, y_train)\n",
        "print(f\"Logistic Regression: {round(logistic_regression_mod.score(X_test, y_test), 3)}\")\n",
        "\n",
        "pred_logistic_regression = logistic_regression_mod.predict(X_test)"
      ],
      "execution_count": null,
      "outputs": [
        {
          "output_type": "stream",
          "text": [
            "Logistic Regression: 0.893\n"
          ],
          "name": "stdout"
        }
      ]
    },
    {
      "cell_type": "markdown",
      "metadata": {
        "id": "6yClmm6T1rw8"
      },
      "source": [
        "<h2> Analisis Performa Model"
      ]
    },
    {
      "cell_type": "markdown",
      "metadata": {
        "id": "ORn5Co7d9lpB"
      },
      "source": [
        "- Classification Report: Laporang yang berisi Precision, Recall and F1-Score.\n",
        "\n",
        "1. Precision - Presisi adalah rasio data data positif yang diprediksi dengan benar dibandingkan dengan total data yg diprediksi positif/true \n",
        "\n",
        "   Precision = TP/TP+FP\n",
        "\n",
        "2. Recall (Sensitivity) - Recall adalah rasio data positif yang diprediksi dengan benar dibandingkan dengan semua data yang diprediksi dengan benar.\n",
        "\n",
        "    Recall = TP/TP+FN\n",
        "\n",
        "4. F1 score - F1 Score is adalah rata-rata tertimbang dari Precision dan Recall. Oleh karena itu, skor ini memperhitungkan false positif dan false negatif.\n",
        "\n",
        "    F1 Score = 2(Recall Precision) / (Recall + Precision)"
      ]
    },
    {
      "cell_type": "code",
      "metadata": {
        "colab": {
          "base_uri": "https://localhost:8080/"
        },
        "id": "w-745Rbd9iuC",
        "outputId": "e5c9bd94-d8b7-4945-fb16-2c073de7e3c7"
      },
      "source": [
        "print(\"Classification Report\")\n",
        "print(classification_report(y_test, pred_logistic_regression))"
      ],
      "execution_count": null,
      "outputs": [
        {
          "output_type": "stream",
          "text": [
            "Classification Report\n",
            "              precision    recall  f1-score   support\n",
            "\n",
            "         1.0       0.94      0.95      0.94       497\n",
            "         2.0       0.62      0.72      0.67        88\n",
            "         3.0       0.95      0.70      0.80        53\n",
            "\n",
            "    accuracy                           0.89       638\n",
            "   macro avg       0.84      0.79      0.81       638\n",
            "weighted avg       0.90      0.89      0.89       638\n",
            "\n"
          ],
          "name": "stdout"
        }
      ]
    },
    {
      "cell_type": "markdown",
      "metadata": {
        "id": "SBqfPVCp9rtD"
      },
      "source": [
        "## Confusion Matrix\n",
        "<h5>  confusion matrix memberikan informasi perbandingan hasil klasifikasi yang dilakukan oleh sistem (model) dengan hasil klasifikasi sebenarnya. Confusion matrix berbentuk tabel matriks yang menggambarkan kinerja model klasifikasi pada serangkaian data uji yang nilai sebenarnya diketahui."
      ]
    },
    {
      "cell_type": "code",
      "metadata": {
        "colab": {
          "base_uri": "https://localhost:8080/"
        },
        "id": "qaG9MBZF9o69",
        "outputId": "87bbbb22-f839-4671-ace8-36d7e2993629"
      },
      "source": [
        "print(\"Confusion Matrix:\")\n",
        "print(confusion_matrix(y_test, pred_logistic_regression))"
      ],
      "execution_count": null,
      "outputs": [
        {
          "output_type": "stream",
          "text": [
            "Confusion Matrix:\n",
            "[[470  26   1]\n",
            " [ 24  63   1]\n",
            " [  4  12  37]]\n"
          ],
          "name": "stdout"
        }
      ]
    },
    {
      "cell_type": "code",
      "metadata": {
        "colab": {
          "base_uri": "https://localhost:8080/",
          "height": 294
        },
        "id": "17wDVGaJ93z7",
        "outputId": "0b079945-6f98-49de-cd44-37d887f70f8f"
      },
      "source": [
        "ax= plt.subplot()\n",
        "sns.heatmap(confusion_matrix(y_test, pred_logistic_regression), annot=True, ax = ax, cmap = \"BuGn\");\n",
        "\n",
        "# labels, title and ticks\n",
        "ax.set_xlabel(\"Predicted labels\");\n",
        "ax.set_ylabel(\"True labels\"); \n",
        "ax.set_title(\"Confusion Matrix\"); \n",
        "ax.xaxis.set_ticklabels([\"Normal\", \"Suspect\", \"Pathological\"]);"
      ],
      "execution_count": null,
      "outputs": [
        {
          "output_type": "display_data",
          "data": {
            "image/png": "[encoded data removed]",
            "text/plain": [
              "<Figure size 432x288 with 2 Axes>"
            ]
          },
          "metadata": {
            "tags": [],
            "needs_background": "light"
          }
        }
      ]
    },
    {
      "cell_type": "code",
      "metadata": {
        "id": "peD1U0KDkKtJ"
      },
      "source": [
        ""
      ],
      "execution_count": null,
      "outputs": []
    }
  ]
}